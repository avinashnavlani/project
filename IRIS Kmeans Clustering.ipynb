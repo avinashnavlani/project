{
 "cells": [
  {
   "cell_type": "markdown",
   "metadata": {},
   "source": [
    "### Importing Important Libraries"
   ]
  },
  {
   "cell_type": "code",
   "execution_count": 2,
   "metadata": {
    "collapsed": true
   },
   "outputs": [],
   "source": [
    "import pandas as pd\n",
    "from sklearn import datasets\n",
    "import matplotlib.pyplot as plt\n",
    "from sklearn.cluster import KMeans\n",
    "from sklearn import metrics\n",
    "from sklearn import preprocessing\n",
    "%matplotlib inline"
   ]
  },
  {
   "cell_type": "markdown",
   "metadata": {},
   "source": [
    "### Loading Dataset"
   ]
  },
  {
   "cell_type": "code",
   "execution_count": 3,
   "metadata": {
    "collapsed": true
   },
   "outputs": [],
   "source": [
    "iris = datasets.load_iris()"
   ]
  },
  {
   "cell_type": "code",
   "execution_count": 4,
   "metadata": {},
   "outputs": [],
   "source": [
    "# store feature matrix in \"X\"\n",
    "X = iris.data\n",
    "# store response vector in \"y\"\n",
    "y = iris.target"
   ]
  },
  {
   "cell_type": "code",
   "execution_count": 5,
   "metadata": {},
   "outputs": [
    {
     "data": {
      "text/plain": [
       "(150L, 4L)"
      ]
     },
     "execution_count": 5,
     "metadata": {},
     "output_type": "execute_result"
    }
   ],
   "source": [
    "X.shape"
   ]
  },
  {
   "cell_type": "code",
   "execution_count": 5,
   "metadata": {},
   "outputs": [
    {
     "data": {
      "text/html": [
       "<div>\n",
       "<table border=\"1\" class=\"dataframe\">\n",
       "  <thead>\n",
       "    <tr style=\"text-align: right;\">\n",
       "      <th></th>\n",
       "      <th>cluster_errors</th>\n",
       "      <th>num_clusters</th>\n",
       "    </tr>\n",
       "  </thead>\n",
       "  <tbody>\n",
       "    <tr>\n",
       "      <th>0</th>\n",
       "      <td>600.000000</td>\n",
       "      <td>1</td>\n",
       "    </tr>\n",
       "    <tr>\n",
       "      <th>1</th>\n",
       "      <td>223.732006</td>\n",
       "      <td>2</td>\n",
       "    </tr>\n",
       "    <tr>\n",
       "      <th>2</th>\n",
       "      <td>140.965817</td>\n",
       "      <td>3</td>\n",
       "    </tr>\n",
       "    <tr>\n",
       "      <th>3</th>\n",
       "      <td>114.362815</td>\n",
       "      <td>4</td>\n",
       "    </tr>\n",
       "    <tr>\n",
       "      <th>4</th>\n",
       "      <td>91.163771</td>\n",
       "      <td>5</td>\n",
       "    </tr>\n",
       "    <tr>\n",
       "      <th>5</th>\n",
       "      <td>81.639447</td>\n",
       "      <td>6</td>\n",
       "    </tr>\n",
       "    <tr>\n",
       "      <th>6</th>\n",
       "      <td>72.293588</td>\n",
       "      <td>7</td>\n",
       "    </tr>\n",
       "  </tbody>\n",
       "</table>\n",
       "</div>"
      ],
      "text/plain": [
       "   cluster_errors  num_clusters\n",
       "0      600.000000             1\n",
       "1      223.732006             2\n",
       "2      140.965817             3\n",
       "3      114.362815             4\n",
       "4       91.163771             5\n",
       "5       81.639447             6\n",
       "6       72.293588             7"
      ]
     },
     "execution_count": 5,
     "metadata": {},
     "output_type": "execute_result"
    }
   ],
   "source": [
    "# scaling datasets\n",
    "X_normal = preprocessing.scale(X)\n",
    "\n",
    "cluster_range = range( 1, 8 )\n",
    "cluster_errors = []\n",
    "\n",
    "for num_clusters in cluster_range:\n",
    "    clusters = KMeans( num_clusters )\n",
    "    clusters.fit(X_normal)\n",
    "    cluster_errors.append( clusters.inertia_ )\n",
    "clusters_df = pd.DataFrame( { \"num_clusters\":cluster_range, \"cluster_errors\": cluster_errors } ) \n",
    "clusters_df "
   ]
  },
  {
   "cell_type": "code",
   "execution_count": 7,
   "metadata": {},
   "outputs": [
    {
     "name": "stdout",
     "output_type": "stream",
     "text": [
      "Populating the interactive namespace from numpy and matplotlib\n"
     ]
    },
    {
     "data": {
      "text/plain": [
       "[<matplotlib.lines.Line2D at 0xb6dfb38>]"
      ]
     },
     "execution_count": 7,
     "metadata": {},
     "output_type": "execute_result"
    },
    {
     "data": {
      "image/png": "[encoded data removed]",
      "text/plain": [
       "<matplotlib.figure.Figure at 0xb6df710>"
      ]
     },
     "metadata": {},
     "output_type": "display_data"
    }
   ],
   "source": [
    "%pylab inline\n",
    "plt.figure(figsize=(12,6))\n",
    "plt.plot( clusters_df.num_clusters, clusters_df.cluster_errors, marker = \"o\" )"
   ]
  },
  {
   "cell_type": "code",
   "execution_count": 9,
   "metadata": {},
   "outputs": [
    {
     "name": "stdout",
     "output_type": "stream",
     "text": [
      "(2, 0.68081362027879411)\n",
      "(3, 0.55259194453090321)\n",
      "(4, 0.49722797264112423)\n",
      "(5, 0.4885175508654504)\n",
      "(6, 0.36820569663413977)\n",
      "(7, 0.35606622406690924)\n",
      "(8, 0.36311999462117778)\n",
      "(9, 0.33466180874400864)\n",
      "(10, 0.30928768779402988)\n"
     ]
    }
   ],
   "source": [
    "for i in range(2,11):\n",
    "    kmeans=KMeans(n_clusters=i)\n",
    "    kmeans.fit(X)\n",
    "    labels=kmeans.predict(X)\n",
    "    print(i,metrics.silhouette_score(X,labels, metric='euclidean'))"
   ]
  },
  {
   "cell_type": "code",
   "execution_count": 8,
   "metadata": {
    "collapsed": true
   },
   "outputs": [],
   "source": [
    "def objective_function1(alpha,ss,fmi,vm):\n",
    "    return alpha*ss+((1-alpha)/2)*fmi+((1-alpha)/2)*vm"
   ]
  },
  {
   "cell_type": "code",
   "execution_count": 27,
   "metadata": {},
   "outputs": [
    {
     "data": {
      "text/html": [
       "<div>\n",
       "<table border=\"1\" class=\"dataframe\">\n",
       "  <thead>\n",
       "    <tr style=\"text-align: right;\">\n",
       "      <th></th>\n",
       "      <th>sepal length (cm)</th>\n",
       "      <th>sepal width (cm)</th>\n",
       "      <th>petal length (cm)</th>\n",
       "      <th>petal width (cm)</th>\n",
       "    </tr>\n",
       "  </thead>\n",
       "  <tbody>\n",
       "    <tr>\n",
       "      <th>0</th>\n",
       "      <td>5.1</td>\n",
       "      <td>3.5</td>\n",
       "      <td>1.4</td>\n",
       "      <td>0.2</td>\n",
       "    </tr>\n",
       "    <tr>\n",
       "      <th>1</th>\n",
       "      <td>4.9</td>\n",
       "      <td>3.0</td>\n",
       "      <td>1.4</td>\n",
       "      <td>0.2</td>\n",
       "    </tr>\n",
       "    <tr>\n",
       "      <th>2</th>\n",
       "      <td>4.7</td>\n",
       "      <td>3.2</td>\n",
       "      <td>1.3</td>\n",
       "      <td>0.2</td>\n",
       "    </tr>\n",
       "    <tr>\n",
       "      <th>3</th>\n",
       "      <td>4.6</td>\n",
       "      <td>3.1</td>\n",
       "      <td>1.5</td>\n",
       "      <td>0.2</td>\n",
       "    </tr>\n",
       "    <tr>\n",
       "      <th>4</th>\n",
       "      <td>5.0</td>\n",
       "      <td>3.6</td>\n",
       "      <td>1.4</td>\n",
       "      <td>0.2</td>\n",
       "    </tr>\n",
       "  </tbody>\n",
       "</table>\n",
       "</div>"
      ],
      "text/plain": [
       "   sepal length (cm)  sepal width (cm)  petal length (cm)  petal width (cm)\n",
       "0                5.1               3.5                1.4               0.2\n",
       "1                4.9               3.0                1.4               0.2\n",
       "2                4.7               3.2                1.3               0.2\n",
       "3                4.6               3.1                1.5               0.2\n",
       "4                5.0               3.6                1.4               0.2"
      ]
     },
     "execution_count": 27,
     "metadata": {},
     "output_type": "execute_result"
    }
   ],
   "source": [
    "data=pd.DataFrame(data=X,columns=iris.feature_names)\n",
    "data.head()"
   ]
  },
  {
   "cell_type": "code",
   "execution_count": 26,
   "metadata": {},
   "outputs": [
    {
     "data": {
      "image/png": "[encoded data removed]",
      "text/plain": [
       "<matplotlib.figure.Figure at 0xde59748>"
      ]
     },
     "metadata": {},
     "output_type": "display_data"
    }
   ],
   "source": [
    "# Import KMeans Model\n",
    "from sklearn.cluster import KMeans\n",
    "\n",
    "# Graph and create 2 clusters of user\n",
    "kmeans = KMeans(n_clusters=2,random_state=2)\n",
    "\n",
    "kmeans.fit(data)\n",
    "\n",
    "kmeans_colors = ['red' if c == 0 else 'blue' for c in kmeans.labels_]\n",
    "\n",
    "fig = plt.figure(figsize=(10, 6))\n",
    "plt.scatter(x=data['sepal length (cm)'],y=data['sepal width (cm)'],alpha=0.25,color = kmeans_colors)\n",
    "plt.xlabel('sepal length')\n",
    "plt.ylabel('sepal width')\n",
    "plt.title(\"Clusters of IRIS\")\n",
    "plt.xlim(0.0, 10.0)\n",
    "plt.ylim(0.0, 10.0)\n",
    "plt.show()"
   ]
  },
  {
   "cell_type": "markdown",
   "metadata": {},
   "source": [
    "### Selecting Number of Clusters"
   ]
  },
  {
   "cell_type": "markdown",
   "metadata": {},
   "source": [
    "#### Elbow Criteria"
   ]
  },
  {
   "cell_type": "code",
   "execution_count": 49,
   "metadata": {},
   "outputs": [
    {
     "data": {
      "image/png": "[encoded data removed]",
      "text/plain": [
       "<matplotlib.figure.Figure at 0x3aa9a90>"
      ]
     },
     "metadata": {},
     "output_type": "display_data"
    }
   ],
   "source": [
    "Nc = range(1, 10)\n",
    "kmeans = [KMeans(n_clusters=i) for i in Nc]\n",
    "kmeans\n",
    "score = [kmeans[i].fit(X).score(X) for i in range(len(kmeans))]\n",
    "score\n",
    "plt.plot(Nc,score)\n",
    "plt.xlabel('Number of Clusters')\n",
    "plt.ylabel('Score')\n",
    "plt.title('Elbow Curve')\n",
    "plt.show()"
   ]
  },
  {
   "cell_type": "markdown",
   "metadata": {},
   "source": [
    "#### Selecting Number of Clusters (Using Scipy)"
   ]
  },
  {
   "cell_type": "code",
   "execution_count": 36,
   "metadata": {},
   "outputs": [
    {
     "data": {
      "image/png": "[encoded data removed]",
      "text/plain": [
       "<matplotlib.figure.Figure at 0xc858be0>"
      ]
     },
     "metadata": {},
     "output_type": "display_data"
    }
   ],
   "source": [
    "from scipy import cluster\n",
    "#plot variance for each value for 'k' between 1,10\n",
    "initial = [cluster.vq.kmeans(X,i) for i in range(1,10)]\n",
    "plt.plot([var for (cent,var) in initial])\n",
    "plt.show()"
   ]
  },
  {
   "cell_type": "markdown",
   "metadata": {},
   "source": [
    "### Generating Clusters"
   ]
  },
  {
   "cell_type": "code",
   "execution_count": 51,
   "metadata": {},
   "outputs": [
    {
     "data": {
      "text/plain": [
       "KMeans(algorithm='auto', copy_x=True, init='k-means++', max_iter=300,\n",
       "    n_clusters=3, n_init=10, n_jobs=1, precompute_distances='auto',\n",
       "    random_state=None, tol=0.0001, verbose=0)"
      ]
     },
     "execution_count": 51,
     "metadata": {},
     "output_type": "execute_result"
    }
   ],
   "source": [
    "nc=3\n",
    "kmeans = KMeans(n_clusters=nc)\n",
    "kmeans.fit(X)"
   ]
  },
  {
   "cell_type": "code",
   "execution_count": 52,
   "metadata": {},
   "outputs": [
    {
     "data": {
      "text/plain": [
       "array([[ 5.006     ,  3.418     ,  1.464     ,  0.244     ],\n",
       "       [ 5.9016129 ,  2.7483871 ,  4.39354839,  1.43387097],\n",
       "       [ 6.85      ,  3.07368421,  5.74210526,  2.07105263]])"
      ]
     },
     "execution_count": 52,
     "metadata": {},
     "output_type": "execute_result"
    }
   ],
   "source": [
    "kmeans.cluster_centers_"
   ]
  },
  {
   "cell_type": "code",
   "execution_count": 53,
   "metadata": {},
   "outputs": [
    {
     "data": {
      "text/plain": [
       "(array([[ 5.006     ,  3.418     ,  1.464     ,  0.244     ],\n",
       "        [ 5.9016129 ,  2.7483871 ,  4.39354839,  1.43387097],\n",
       "        [ 6.85      ,  3.07368421,  5.74210526,  2.07105263]]),\n",
       " array([0, 0, 0, 0, 0, 0, 0, 0, 0, 0, 0, 0, 0, 0, 0, 0, 0, 0, 0, 0, 0, 0, 0,\n",
       "        0, 0, 0, 0, 0, 0, 0, 0, 0, 0, 0, 0, 0, 0, 0, 0, 0, 0, 0, 0, 0, 0, 0,\n",
       "        0, 0, 0, 0, 1, 1, 2, 1, 1, 1, 1, 1, 1, 1, 1, 1, 1, 1, 1, 1, 1, 1, 1,\n",
       "        1, 1, 1, 1, 1, 1, 1, 1, 2, 1, 1, 1, 1, 1, 1, 1, 1, 1, 1, 1, 1, 1, 1,\n",
       "        1, 1, 1, 1, 1, 1, 1, 1, 2, 1, 2, 2, 2, 2, 1, 2, 2, 2, 2, 2, 2, 1, 1,\n",
       "        2, 2, 2, 2, 1, 2, 1, 2, 1, 2, 2, 1, 1, 2, 2, 2, 2, 2, 1, 2, 2, 2, 2,\n",
       "        1, 2, 2, 2, 1, 2, 2, 2, 1, 2, 2, 1]))"
      ]
     },
     "execution_count": 53,
     "metadata": {},
     "output_type": "execute_result"
    }
   ],
   "source": [
    "centroids = kmeans.cluster_centers_\n",
    "labels = kmeans.labels_\n",
    "centroids,labels"
   ]
  },
  {
   "cell_type": "code",
   "execution_count": 54,
   "metadata": {
    "collapsed": true
   },
   "outputs": [],
   "source": [
    "#compute_DB_index(X, labels, centroids, nc)"
   ]
  },
  {
   "cell_type": "code",
   "execution_count": 55,
   "metadata": {},
   "outputs": [
    {
     "data": {
      "text/plain": [
       "array([[ 5.1,  3.5,  1.4,  0.2],\n",
       "       [ 4.9,  3. ,  1.4,  0.2]])"
      ]
     },
     "execution_count": 55,
     "metadata": {},
     "output_type": "execute_result"
    }
   ],
   "source": [
    "X[:2][:]"
   ]
  },
  {
   "cell_type": "code",
   "execution_count": 56,
   "metadata": {},
   "outputs": [
    {
     "name": "stdout",
     "output_type": "stream",
     "text": [
      "(0.55259194453090321, 0.82080807291141533, 0.7581756800057784)\n",
      "0.0 0.789491876459\n",
      "0.1 0.765801883266\n",
      "0.2 0.742111890073\n",
      "0.3 0.71842189688\n",
      "0.4 0.694731903688\n",
      "0.5 0.671041910495\n",
      "0.6 0.647351917302\n",
      "0.7 0.623661924109\n",
      "0.8 0.599971930916\n",
      "0.9 0.576281937724\n",
      "1.0 0.552591944531\n"
     ]
    }
   ],
   "source": [
    "pred_labels = kmeans.labels_\n",
    "ss=metrics.silhouette_score(X, pred_labels , metric='euclidean')\n",
    "fmi=metrics.fowlkes_mallows_score(y, pred_labels)\n",
    "vm=metrics.v_measure_score(y, pred_labels) \n",
    "print(ss,fmi,vm)\n",
    "for i in range(0,11):\n",
    "    print (i/10.0), objective_function1(i/10.0,ss,fmi,vm)"
   ]
  },
  {
   "cell_type": "code",
   "execution_count": null,
   "metadata": {
    "collapsed": true
   },
   "outputs": [],
   "source": [
    "(0.55259194453090321, 0.82080807291141533, 0.7581756800057784)\n",
    "0.0 0.789491876459\n",
    "0.1 0.765801883266\n",
    "0.2 0.742111890073\n",
    "0.3 0.71842189688\n",
    "0.4 0.694731903688\n",
    "0.5 0.671041910495\n",
    "0.6 0.647351917302\n",
    "0.7 0.623661924109\n",
    "0.8 0.599971930916\n",
    "0.9 0.576281937724\n",
    "1.0 0.552591944531"
   ]
  },
  {
   "cell_type": "code",
   "execution_count": 57,
   "metadata": {
    "collapsed": true
   },
   "outputs": [],
   "source": [
    "def objective_function(alpha,dbi,ri,ji):\n",
    "    return alpha*dbi+((1-alpha)/2)*ri+((1-alpha)/2)*ji"
   ]
  },
  {
   "cell_type": "code",
   "execution_count": 58,
   "metadata": {},
   "outputs": [
    {
     "name": "stdout",
     "output_type": "stream",
     "text": [
      "(6.657169446101694, 0.73023827228346971, 0.89333333333333331)\n",
      "0.0 0.811785802808\n",
      "0.1 1.39632416714\n",
      "0.2 1.98086253147\n",
      "0.3 2.5654008958\n",
      "0.4 3.14993926013\n",
      "0.5 3.73447762446\n",
      "0.6 4.31901598878\n",
      "0.7 4.90355435311\n",
      "0.8 5.48809271744\n",
      "0.9 6.07263108177\n",
      "1.0 6.6571694461\n"
     ]
    }
   ],
   "source": [
    "dbi=compute_DB_index(X, pred_labels, centroids, nc)\n",
    "ri=metrics.adjusted_rand_score(y, pred_labels)\n",
    "ji=metrics.jaccard_similarity_score(y, pred_labels)\n",
    "print(dbi,ri,ji)\n",
    "for i in range(0,11):\n",
    "    print (i/10.0), objective_function1(i/10.0,dbi,ri,ji)"
   ]
  },
  {
   "cell_type": "markdown",
   "metadata": {},
   "source": [
    "### Evaluating Performance "
   ]
  },
  {
   "cell_type": "markdown",
   "metadata": {},
   "source": [
    "### Internal Evaluation"
   ]
  },
  {
   "cell_type": "markdown",
   "metadata": {},
   "source": [
    "#### Silhouette Score"
   ]
  },
  {
   "cell_type": "code",
   "execution_count": 10,
   "metadata": {},
   "outputs": [
    {
     "data": {
      "text/plain": [
       "0.55259194453090321"
      ]
     },
     "execution_count": 10,
     "metadata": {},
     "output_type": "execute_result"
    }
   ],
   "source": [
    "pred_labels = kmeans.labels_\n",
    "metrics.silhouette_score(X, pred_labels , metric='euclidean')"
   ]
  },
  {
   "cell_type": "markdown",
   "metadata": {},
   "source": [
    "#### Calinski Harabaz Score"
   ]
  },
  {
   "cell_type": "code",
   "execution_count": 11,
   "metadata": {},
   "outputs": [
    {
     "data": {
      "text/plain": [
       "560.39992424664024"
      ]
     },
     "execution_count": 11,
     "metadata": {},
     "output_type": "execute_result"
    }
   ],
   "source": [
    "metrics.calinski_harabaz_score(X, pred_labels ) "
   ]
  },
  {
   "cell_type": "markdown",
   "metadata": {},
   "source": [
    "### External Evaluation"
   ]
  },
  {
   "cell_type": "markdown",
   "metadata": {},
   "source": [
    "#### Jaccard Similarity Score"
   ]
  },
  {
   "cell_type": "code",
   "execution_count": 12,
   "metadata": {},
   "outputs": [
    {
     "data": {
      "text/plain": [
       "0.23999999999999999"
      ]
     },
     "execution_count": 12,
     "metadata": {},
     "output_type": "execute_result"
    }
   ],
   "source": [
    "metrics.jaccard_similarity_score(y, pred_labels)"
   ]
  },
  {
   "cell_type": "markdown",
   "metadata": {},
   "source": [
    "#### Adjusted Rand Score"
   ]
  },
  {
   "cell_type": "code",
   "execution_count": 13,
   "metadata": {},
   "outputs": [
    {
     "data": {
      "text/plain": [
       "0.73023827228346971"
      ]
     },
     "execution_count": 13,
     "metadata": {},
     "output_type": "execute_result"
    }
   ],
   "source": [
    "metrics.adjusted_rand_score(y, pred_labels)"
   ]
  },
  {
   "cell_type": "markdown",
   "metadata": {},
   "source": [
    "#### Adjusted Mutual Information Score"
   ]
  },
  {
   "cell_type": "code",
   "execution_count": 14,
   "metadata": {},
   "outputs": [
    {
     "data": {
      "text/plain": [
       "0.74837239332294847"
      ]
     },
     "execution_count": 14,
     "metadata": {},
     "output_type": "execute_result"
    }
   ],
   "source": [
    "metrics.adjusted_mutual_info_score(y, pred_labels) "
   ]
  },
  {
   "cell_type": "markdown",
   "metadata": {},
   "source": [
    "#### Homogeneity and Completeness"
   ]
  },
  {
   "cell_type": "code",
   "execution_count": 38,
   "metadata": {},
   "outputs": [
    {
     "data": {
      "text/plain": [
       "(0.75148540219883386, 0.76498615144898163)"
      ]
     },
     "execution_count": 38,
     "metadata": {},
     "output_type": "execute_result"
    }
   ],
   "source": [
    "metrics.homogeneity_score(y, pred_labels), metrics.completeness_score(y, pred_labels) "
   ]
  },
  {
   "cell_type": "markdown",
   "metadata": {},
   "source": [
    "#### V-measure"
   ]
  },
  {
   "cell_type": "code",
   "execution_count": 17,
   "metadata": {},
   "outputs": [
    {
     "data": {
      "text/plain": [
       "0.75817568000577862"
      ]
     },
     "execution_count": 17,
     "metadata": {},
     "output_type": "execute_result"
    }
   ],
   "source": [
    "metrics.v_measure_score(y, pred_labels) "
   ]
  },
  {
   "cell_type": "markdown",
   "metadata": {},
   "source": [
    "#### F1-Measure"
   ]
  },
  {
   "cell_type": "code",
   "execution_count": 18,
   "metadata": {},
   "outputs": [
    {
     "data": {
      "text/plain": [
       "0.27272727272727271"
      ]
     },
     "execution_count": 18,
     "metadata": {},
     "output_type": "execute_result"
    }
   ],
   "source": [
    "metrics.f1_score(y, pred_labels, average='macro')"
   ]
  },
  {
   "cell_type": "code",
   "execution_count": 19,
   "metadata": {},
   "outputs": [
    {
     "data": {
      "text/plain": [
       "0.23999999999999999"
      ]
     },
     "execution_count": 19,
     "metadata": {},
     "output_type": "execute_result"
    }
   ],
   "source": [
    "metrics.f1_score(y, pred_labels, average='micro')"
   ]
  },
  {
   "cell_type": "code",
   "execution_count": 20,
   "metadata": {},
   "outputs": [
    {
     "data": {
      "text/plain": [
       "0.27272727272727271"
      ]
     },
     "execution_count": 20,
     "metadata": {},
     "output_type": "execute_result"
    }
   ],
   "source": [
    "metrics.f1_score(y, pred_labels, average='weighted')"
   ]
  },
  {
   "cell_type": "markdown",
   "metadata": {},
   "source": [
    "### Fowlkes Mallows Score"
   ]
  },
  {
   "cell_type": "code",
   "execution_count": 39,
   "metadata": {},
   "outputs": [
    {
     "data": {
      "text/plain": [
       "0.82080807291141533"
      ]
     },
     "execution_count": 39,
     "metadata": {},
     "output_type": "execute_result"
    }
   ],
   "source": [
    "metrics.fowlkes_mallows_score(y, pred_labels)"
   ]
  },
  {
   "cell_type": "markdown",
   "metadata": {},
   "source": [
    "### Centroids ans Labels"
   ]
  },
  {
   "cell_type": "code",
   "execution_count": 40,
   "metadata": {},
   "outputs": [
    {
     "data": {
      "text/plain": [
       "(array([[ 6.65454545,  3.04545455,  4.66363636,  1.47272727],\n",
       "        [ 5.31904762,  3.74285714,  1.4952381 ,  0.26666667],\n",
       "        [ 6.05384615,  2.83846154,  4.43846154,  1.39230769],\n",
       "        [ 7.8       ,  3.8       ,  6.55      ,  2.1       ],\n",
       "        [ 5.58      ,  2.65      ,  4.03      ,  1.235     ],\n",
       "        [ 6.02777778,  2.73333333,  5.02777778,  1.79444444],\n",
       "        [ 5.        ,  2.3       ,  3.275     ,  1.025     ],\n",
       "        [ 7.41      ,  2.99      ,  6.25      ,  2.04      ],\n",
       "        [ 6.56818182,  3.08636364,  5.53636364,  2.16363636],\n",
       "        [ 4.4       ,  2.88      ,  1.28      ,  0.2       ],\n",
       "        [ 4.85833333,  3.24583333,  1.475     ,  0.23333333]]),\n",
       " array([ 1, 10, 10, 10,  1,  1, 10, 10,  9, 10,  1, 10, 10,  9,  1,  1,  1,\n",
       "         1,  1,  1,  1,  1, 10, 10, 10, 10, 10,  1,  1, 10, 10,  1,  1,  1,\n",
       "        10, 10,  1, 10,  9, 10, 10,  9,  9, 10,  1, 10,  1, 10,  1, 10,  0,\n",
       "         0,  0,  4,  0,  2,  0,  6,  0,  4,  6,  2,  4,  2,  4,  0,  2,  4,\n",
       "         2,  4,  5,  2,  5,  2,  2,  0,  0,  0,  2,  4,  4,  4,  4,  5,  4,\n",
       "         2,  0,  2,  4,  4,  4,  2,  4,  6,  4,  4,  4,  2,  6,  4,  8,  5,\n",
       "         7,  8,  8,  7,  4,  7,  8,  7,  8,  5,  8,  5,  5,  8,  8,  3,  7,\n",
       "         5,  8,  5,  7,  5,  8,  7,  5,  5,  8,  7,  7,  3,  8,  5,  5,  7,\n",
       "         8,  8,  5,  8,  8,  8,  5,  8,  8,  8,  5,  8,  8,  5]))"
      ]
     },
     "execution_count": 40,
     "metadata": {},
     "output_type": "execute_result"
    }
   ],
   "source": [
    "centroids = kmeans.cluster_centers_\n",
    "labels = kmeans.labels_\n",
    "centroids,labels"
   ]
  },
  {
   "cell_type": "markdown",
   "metadata": {},
   "source": [
    "### Objective Function"
   ]
  },
  {
   "cell_type": "code",
   "execution_count": 30,
   "metadata": {
    "collapsed": true
   },
   "outputs": [],
   "source": [
    "def objective_function(alpha,dbi,ri,ji):\n",
    "    return alpha*dbi+(1-alpha)*ri+(1-alpha)*ji"
   ]
  },
  {
   "cell_type": "code",
   "execution_count": 6,
   "metadata": {
    "collapsed": true
   },
   "outputs": [],
   "source": [
    "def objective_function1(alpha,ss,fmi,vm):\n",
    "    return alpha*ss+((1-alpha)/2)*fmi+((1-alpha)/2)*vm"
   ]
  },
  {
   "cell_type": "code",
   "execution_count": 41,
   "metadata": {},
   "outputs": [
    {
     "name": "stderr",
     "output_type": "stream",
     "text": [
      "C:\\Users\\Avinash\\Anaconda2\\lib\\site-packages\\matplotlib\\collections.py:590: FutureWarning: elementwise comparison failed; returning scalar instead, but in the future will perform elementwise comparison\n",
      "  if self._edgecolors == str('face'):\n"
     ]
    },
    {
     "data": {
      "image/png": "[encoded data removed]",
      "text/plain": [
       "<matplotlib.figure.Figure at 0xc9dee48>"
      ]
     },
     "metadata": {},
     "output_type": "display_data"
    }
   ],
   "source": [
    "plt.scatter(X[:,0],X[:,2])\n",
    "plt.show()"
   ]
  },
  {
   "cell_type": "code",
   "execution_count": 7,
   "metadata": {
    "collapsed": true
   },
   "outputs": [],
   "source": [
    "import pandas as pd \n",
    "from sklearn.cluster import k_means\n",
    "from scipy.spatial import distance\n",
    "\n",
    "# nc is number of clusters\n",
    "# to be implemented without the use of any libraries (from the scratch)\n",
    "\n",
    "def compute_s(i, x, labels, clusters):\n",
    "\tnorm_c= len(clusters)\n",
    "\ts = 0\n",
    "\tfor x in clusters:\n",
    "\t\t# print x\n",
    "\t\ts += distance.euclidean(x, clusters[i])\n",
    "\treturn s\n",
    "\n",
    "def compute_Rij(i, j, x, labels, clusters, nc):\n",
    "\tRij = 0\n",
    "\ttry:\n",
    "\t\t# print \"h\"\n",
    "\t\td = distance.euclidean(clusters[i],clusters[j])\n",
    "\t\t# print d\n",
    "\t\tRij = (compute_s(i, x, labels, clusters) + compute_s(j, x, labels, clusters))/d\n",
    "\t\t# print Rij\n",
    "\texcept:\n",
    "\t\tRij = 0\t\n",
    "\treturn Rij\n",
    "\n",
    "def compute_R(i, x, labels, clusters, nc): \n",
    "\tlist_r = []\n",
    "\tfor i in range(nc):\n",
    "\t\tfor j in range(nc):\n",
    "\t\t\tif(i!=j):\n",
    "\t\t\t\ttemp = compute_Rij(i, j, x, labels, clusters, nc)\n",
    "\t\t\t\tlist_r.append(temp)\n",
    "\n",
    "\treturn max(list_r)\n",
    "\n",
    "def compute_DB_index(x, labels, clusters, nc):\n",
    "\t# print x\n",
    "\tsigma_R = 0.0\n",
    "\tfor i in range(nc):\n",
    "\t\tsigma_R = sigma_R + compute_R(i, x, labels, clusters, nc)\n",
    "\n",
    "\tDB_index = float(sigma_R)/float(nc)\n",
    "\treturn DB_index"
   ]
  },
  {
   "cell_type": "code",
   "execution_count": 62,
   "metadata": {},
   "outputs": [
    {
     "name": "stdout",
     "output_type": "stream",
     "text": [
      "The value of Davies Bouldin index for a K-Means cluser of size 10 is: 56.835717783\n"
     ]
    }
   ],
   "source": [
    "df = pd.read_csv(\"E://dataset//cluster_dbi.csv\")\n",
    "df = df.dropna()\n",
    "# print df\n",
    "x1 = df.copy()\n",
    "del x1['Customer']\n",
    "del x1['Effective To Date']\n",
    "x4 = pd.get_dummies(x1)\n",
    "# print x4\n",
    "n = 10\n",
    "clf = k_means(x4, n_clusters = n)\n",
    "centroids = clf[0] \n",
    "# 10 clusters\n",
    "labels = clf[1] \n",
    "# print x4[1]\n",
    "index_db_val = compute_DB_index(x4, labels, centroids, n)\n",
    "print \"The value of Davies Bouldin index for a K-Means cluser of size \" + str(n) + \" is: \" + str(index_db_val)"
   ]
  },
  {
   "cell_type": "code",
   "execution_count": 8,
   "metadata": {},
   "outputs": [
    {
     "ename": "NameError",
     "evalue": "name 'centroids' is not defined",
     "output_type": "error",
     "traceback": [
      "\u001b[1;31m---------------------------------------------------------------------------\u001b[0m",
      "\u001b[1;31mNameError\u001b[0m                                 Traceback (most recent call last)",
      "\u001b[1;32m<ipython-input-8-88e79d50c687>\u001b[0m in \u001b[0;36m<module>\u001b[1;34m()\u001b[0m\n\u001b[1;32m----> 1\u001b[1;33m \u001b[0mcentroids\u001b[0m\u001b[1;33m\u001b[0m\u001b[0m\n\u001b[0m",
      "\u001b[1;31mNameError\u001b[0m: name 'centroids' is not defined"
     ]
    }
   ],
   "source": [
    "centroids"
   ]
  },
  {
   "cell_type": "markdown",
   "metadata": {},
   "source": [
    "### Experiment"
   ]
  },
  {
   "cell_type": "code",
   "execution_count": 13,
   "metadata": {},
   "outputs": [
    {
     "data": {
      "text/html": [
       "<div>\n",
       "<style>\n",
       "    .dataframe thead tr:only-child th {\n",
       "        text-align: right;\n",
       "    }\n",
       "\n",
       "    .dataframe thead th {\n",
       "        text-align: left;\n",
       "    }\n",
       "\n",
       "    .dataframe tbody tr th {\n",
       "        vertical-align: top;\n",
       "    }\n",
       "</style>\n",
       "<table border=\"1\" class=\"dataframe\">\n",
       "  <thead>\n",
       "    <tr style=\"text-align: right;\">\n",
       "      <th></th>\n",
       "      <th>JI</th>\n",
       "      <th>RI</th>\n",
       "      <th>num_clusters</th>\n",
       "    </tr>\n",
       "  </thead>\n",
       "  <tbody>\n",
       "    <tr>\n",
       "      <th>0</th>\n",
       "      <td>0.333333</td>\n",
       "      <td>0.000000</td>\n",
       "      <td>1</td>\n",
       "    </tr>\n",
       "    <tr>\n",
       "      <th>1</th>\n",
       "      <td>0.000000</td>\n",
       "      <td>0.568116</td>\n",
       "      <td>2</td>\n",
       "    </tr>\n",
       "    <tr>\n",
       "      <th>2</th>\n",
       "      <td>0.113333</td>\n",
       "      <td>0.592333</td>\n",
       "      <td>3</td>\n",
       "    </tr>\n",
       "    <tr>\n",
       "      <th>3</th>\n",
       "      <td>0.093333</td>\n",
       "      <td>0.460246</td>\n",
       "      <td>4</td>\n",
       "    </tr>\n",
       "    <tr>\n",
       "      <th>4</th>\n",
       "      <td>0.380000</td>\n",
       "      <td>0.432693</td>\n",
       "      <td>5</td>\n",
       "    </tr>\n",
       "    <tr>\n",
       "      <th>5</th>\n",
       "      <td>0.133333</td>\n",
       "      <td>0.355848</td>\n",
       "      <td>6</td>\n",
       "    </tr>\n",
       "    <tr>\n",
       "      <th>6</th>\n",
       "      <td>0.266667</td>\n",
       "      <td>0.379127</td>\n",
       "      <td>7</td>\n",
       "    </tr>\n",
       "  </tbody>\n",
       "</table>\n",
       "</div>"
      ],
      "text/plain": [
       "         JI        RI  num_clusters\n",
       "0  0.333333  0.000000             1\n",
       "1  0.000000  0.568116             2\n",
       "2  0.113333  0.592333             3\n",
       "3  0.093333  0.460246             4\n",
       "4  0.380000  0.432693             5\n",
       "5  0.133333  0.355848             6\n",
       "6  0.266667  0.379127             7"
      ]
     },
     "execution_count": 13,
     "metadata": {},
     "output_type": "execute_result"
    }
   ],
   "source": [
    "# scaling datasets\n",
    "X_normal = preprocessing.scale(X)\n",
    "\n",
    "cluster_range = range( 1, 8 )\n",
    "cluster_errors = []\n",
    "dbi_list=[]\n",
    "ji_list=[]\n",
    "ri_list=[]\n",
    "alpha=0.5\n",
    "for num_clusters in cluster_range:\n",
    "    clusters = KMeans( num_clusters )\n",
    "    clusters.fit(X_normal)\n",
    "    pred_labels=clusters.labels_\n",
    "    ji=metrics.jaccard_similarity_score(y, pred_labels)\n",
    "    ri=metrics.adjusted_rand_score(y, pred_labels)\n",
    "    #dbi= compute_DB_index(X_normal, clusters.labels_, clusters.cluster_centers_, num_clusters)\n",
    "    #value=objective_function(alpha,dbi,ri,ji)\n",
    "    #cluster_errors.append( value )\n",
    "    ji_list.append( ji )\n",
    "    ri_list.append( ri )\n",
    "    #dbi_list.append( dbi )\n",
    "clusters_df = pd.DataFrame( { \"num_clusters\":cluster_range, \"JI\": ji_list, \"RI\": ri_list} ) \n",
    "clusters_df \n",
    "#\"DBI\": dbi_list ,,'obj_func':value, \"Cost\": cluster_errors, "
   ]
  },
  {
   "cell_type": "code",
   "execution_count": null,
   "metadata": {
    "collapsed": true
   },
   "outputs": [],
   "source": [
    "1. READ VLGAAC Paper\n",
    "2. Read about cluster evalution measures\n",
    "3. how objective funtion is optimizing results in VLGAAC\n",
    "4. HOw PSO will use Obejcetive funtion in its Cluster generation algorithm\n",
    "5. More Appropriate datasets."
   ]
  }
 ],
 "metadata": {
  "kernelspec": {
   "display_name": "Python 2",
   "language": "python",
   "name": "python2"
  },
  "language_info": {
   "codemirror_mode": {
    "name": "ipython",
    "version": 2
   },
   "file_extension": ".py",
   "mimetype": "text/x-python",
   "name": "python",
   "nbconvert_exporter": "python",
   "pygments_lexer": "ipython2",
   "version": "2.7.15"
  }
 },
 "nbformat": 4,
 "nbformat_minor": 1
}
