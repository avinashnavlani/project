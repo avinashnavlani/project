{
 "cells": [
  {
   "cell_type": "markdown",
   "metadata": {},
   "source": [
    "## Failure of Pre-built NER model"
   ]
  },
  {
   "cell_type": "code",
   "execution_count": 22,
   "metadata": {
    "ExecuteTime": {
     "end_time": "2021-05-24T04:30:37.011108Z",
     "start_time": "2021-05-24T04:30:36.833929Z"
    }
   },
   "outputs": [
    {
     "name": "stdout",
     "output_type": "stream",
     "text": [
      "[]\n"
     ]
    }
   ],
   "source": [
    "# importing the model en_core_web_sm of English for vocabluary, syntax & entities\n",
    "import en_core_web_sm   \n",
    "\n",
    "# load en_core_web_sm of English for vocabluary, syntax & entities\n",
    "nlp = en_core_web_sm.load() \n",
    "\n",
    "#  \"nlp\" Object is used to create documents with linguistic annotations.\n",
    "doc = nlp('what is the price of mcspicy chicken?')\n",
    "\n",
    "entities=[(i, i.label_) for i in doc.ents]\n",
    "\n",
    "print(entities)"
   ]
  },
  {
   "cell_type": "markdown",
   "metadata": {},
   "source": [
    "## Train Custom NER model"
   ]
  },
  {
   "cell_type": "code",
   "execution_count": 7,
   "metadata": {
    "ExecuteTime": {
     "end_time": "2021-05-24T04:18:36.705439Z",
     "start_time": "2021-05-24T04:18:36.702400Z"
    }
   },
   "outputs": [],
   "source": [
    "# import the required libraries\n",
    "import spacy\n",
    "import random"
   ]
  },
  {
   "cell_type": "code",
   "execution_count": 17,
   "metadata": {
    "ExecuteTime": {
     "end_time": "2021-05-24T04:28:53.838677Z",
     "start_time": "2021-05-24T04:28:53.834601Z"
    }
   },
   "outputs": [],
   "source": [
    "# Initial parameters\n",
    "model_file = \"ner_model\" # set esisting model name other wise set it to None\n",
    "iterations = 20"
   ]
  },
  {
   "cell_type": "code",
   "execution_count": 18,
   "metadata": {
    "ExecuteTime": {
     "end_time": "2021-05-24T04:28:54.757824Z",
     "start_time": "2021-05-24T04:28:54.748328Z"
    }
   },
   "outputs": [],
   "source": [
    "# Training data\n",
    "TRAINING_DATA = [('what is the price of McVeggie?', {'entities': [(21, 29, 'FoodProduct')]}), \n",
    "                 ('what is the price of McEgg?', {'entities': [(21, 26, 'FoodProduct')]}), \n",
    "                 ('what is the price of McChicken?', {'entities': [(21, 30, 'FoodProduct')]}), \n",
    "                 ('what is the price of McSpicy Paneer?', {'entities': [(21, 35, 'FoodProduct')]}), \n",
    "                 ('what is the price of McSpicy Chicken?', {'entities': [(21, 36, 'FoodProduct')]}),] "
   ]
  },
  {
   "cell_type": "code",
   "execution_count": 19,
   "metadata": {
    "ExecuteTime": {
     "end_time": "2021-05-24T04:28:55.936107Z",
     "start_time": "2021-05-24T04:28:55.792694Z"
    }
   },
   "outputs": [
    {
     "name": "stdout",
     "output_type": "stream",
     "text": [
      "Load Existing NER Model  ner_model\n"
     ]
    }
   ],
   "source": [
    "# Testing sample data       \n",
    "test_sample='what is the price of McAloo?'\n",
    "\n",
    "# Create NLP model\n",
    "if model_file is not None:\n",
    "    nlp = spacy.load(model_file)  \n",
    "    print(\"Load Existing NER Model \", model_file)\n",
    "else:\n",
    "    nlp = spacy.blank('en')  \n",
    "    print(\"Created blank NLP model\")"
   ]
  },
  {
   "cell_type": "code",
   "execution_count": 13,
   "metadata": {
    "ExecuteTime": {
     "end_time": "2021-05-24T04:22:53.956191Z",
     "start_time": "2021-05-24T04:22:53.947321Z"
    }
   },
   "outputs": [],
   "source": [
    "# Create NLP Pipeline\n",
    "if 'ner' not in nlp.pipe_names: \n",
    "    ner_pipe = nlp.create_pipe('ner')\n",
    "    nlp.add_pipe(ner_pipe, last=True)\n",
    "else:\n",
    "    ner_pipe = nlp.get_pipe('ner')"
   ]
  },
  {
   "cell_type": "code",
   "execution_count": 14,
   "metadata": {
    "ExecuteTime": {
     "end_time": "2021-05-24T04:24:00.383842Z",
     "start_time": "2021-05-24T04:24:00.376724Z"
    }
   },
   "outputs": [],
   "source": [
    "# Add entities labels to the ner pipeline\n",
    "for text, annotations in TRAINING_DATA:\n",
    "    for entity in annotations.get('entities'):\n",
    "        ner_pipe.add_label(entity[2])"
   ]
  },
  {
   "cell_type": "code",
   "execution_count": 15,
   "metadata": {
    "ExecuteTime": {
     "end_time": "2021-05-24T04:26:07.923328Z",
     "start_time": "2021-05-24T04:26:05.600965Z"
    }
   },
   "outputs": [
    {
     "name": "stdout",
     "output_type": "stream",
     "text": [
      "Iteration Number:0\n",
      "Loss: 24.96239483356476\n",
      "Iteration Number:1\n",
      "Loss: 9.831780625216197\n",
      "Iteration Number:2\n",
      "Loss: 7.696350081167111\n",
      "Iteration Number:3\n",
      "Loss: 4.386721943319117\n",
      "Iteration Number:4\n",
      "Loss: 2.548774863766198\n",
      "Iteration Number:5\n",
      "Loss: 1.7411677321941923\n",
      "Iteration Number:6\n",
      "Loss: 5.561346650243195\n",
      "Iteration Number:7\n",
      "Loss: 3.140873395567486\n",
      "Iteration Number:8\n",
      "Loss: 3.9140133520781397\n",
      "Iteration Number:9\n",
      "Loss: 2.7504411090849836\n",
      "Iteration Number:10\n",
      "Loss: 4.473644116555793\n",
      "Iteration Number:11\n",
      "Loss: 3.4161329613894127\n",
      "Iteration Number:12\n",
      "Loss: 1.4314458954928575\n",
      "Iteration Number:13\n",
      "Loss: 0.5273229079712749\n",
      "Iteration Number:14\n",
      "Loss: 0.008317893163395046\n",
      "Iteration Number:15\n",
      "Loss: 0.0001270340421934693\n",
      "Iteration Number:16\n",
      "Loss: 2.789346120694367e-05\n",
      "Iteration Number:17\n",
      "Loss: 4.012501949276052e-06\n",
      "Iteration Number:18\n",
      "Loss: 1.79791904994263e-06\n",
      "Iteration Number:19\n",
      "Loss: 1.0227177624132128e-06\n"
     ]
    }
   ],
   "source": [
    "# get names of other pipes to disable them during training\n",
    "other_pipes = [pipe for pipe in nlp.pipe_names if pipe != 'ner']# train NER Model\n",
    "\n",
    "with nlp.disable_pipes(*other_pipes):  # only train NER\n",
    "    optimizer = nlp.begin_training()\n",
    "    for itn in range(iterations):\n",
    "        print(\"Iteration Number:\" + str(itn))\n",
    "        random.shuffle(TRAINING_DATA)\n",
    "        losses = {}\n",
    "        for text, annotations in TRAINING_DATA:\n",
    "            nlp.update(\n",
    "                [text],  # batch of texts\n",
    "                [annotations],  # batch of annotations\n",
    "                drop=0.2,# dropout - make it harder to memorise data\n",
    "                sgd=optimizer,  # callable to update weights\n",
    "                losses=losses)\n",
    "        print(\"Loss:\",losses['ner'])"
   ]
  },
  {
   "cell_type": "code",
   "execution_count": 16,
   "metadata": {
    "ExecuteTime": {
     "end_time": "2021-05-24T04:27:16.613220Z",
     "start_time": "2021-05-24T04:27:16.582749Z"
    }
   },
   "outputs": [
    {
     "name": "stdout",
     "output_type": "stream",
     "text": [
      "McAloo 21 27 FoodProduct\n"
     ]
    }
   ],
   "source": [
    "# save model\n",
    "model_file =\"ner_model\"\n",
    "nlp.to_disk(model_file)# test model\n",
    "\n",
    "\n",
    "test_document = nlp(test_sample)\n",
    "for ent in test_document.ents:\n",
    "    print(ent.text, ent.start_char, ent.end_char, ent.label_)"
   ]
  },
  {
   "cell_type": "markdown",
   "metadata": {},
   "source": [
    "## Experiments"
   ]
  },
  {
   "cell_type": "code",
   "execution_count": null,
   "metadata": {},
   "outputs": [],
   "source": [
    "('book a ticket indore to delhi', {'entities': [(14, 20, 'Source'),(24, 29,'Destination')]})"
   ]
  },
  {
   "cell_type": "code",
   "execution_count": 27,
   "metadata": {
    "ExecuteTime": {
     "end_time": "2021-05-24T04:33:45.053354Z",
     "start_time": "2021-05-24T04:33:45.040071Z"
    }
   },
   "outputs": [
    {
     "data": {
      "text/plain": [
       "(24, 29)"
      ]
     },
     "execution_count": 27,
     "metadata": {},
     "output_type": "execute_result"
    }
   ],
   "source": [
    "'book a ticket indore to delhi'.index('delhi'), 'book a ticket indore to delhi'.index('delhi')+len('delhi')"
   ]
  },
  {
   "cell_type": "code",
   "execution_count": 29,
   "metadata": {
    "ExecuteTime": {
     "end_time": "2021-05-24T04:36:40.557231Z",
     "start_time": "2021-05-24T04:36:40.554562Z"
    }
   },
   "outputs": [],
   "source": [
    "news=\"\"\"The Supreme Court on Sunday issued a slew of directions to the Central and state governments on the COVID-19 situation and directed that no patient shall be denied hospitalisation or essential drugs in any State or Union Territory for lack of local residential or identity proof.\n",
    "Bench headed by Justice DY Chandrachud directed the Central government to formulate a national policy on admissions to hospitals, within two weeks, which shall be followed by all state governments and till then no patients will be denied admission or essential drugs in absence of local residential or identity proof.\"\"\""
   ]
  },
  {
   "cell_type": "code",
   "execution_count": 31,
   "metadata": {
    "ExecuteTime": {
     "end_time": "2021-05-24T04:36:56.639307Z",
     "start_time": "2021-05-24T04:36:56.631009Z"
    }
   },
   "outputs": [
    {
     "data": {
      "text/plain": [
       "(4, 17)"
      ]
     },
     "execution_count": 31,
     "metadata": {},
     "output_type": "execute_result"
    }
   ],
   "source": [
    "news.index('Supreme Court'),news.index('Supreme Court')+len('Supreme Court')"
   ]
  },
  {
   "cell_type": "code",
   "execution_count": 32,
   "metadata": {
    "ExecuteTime": {
     "end_time": "2021-05-24T04:44:16.839210Z",
     "start_time": "2021-05-24T04:44:16.833726Z"
    }
   },
   "outputs": [
    {
     "name": "stdout",
     "output_type": "stream",
     "text": [
      "Supreme Court 4 17\n",
      "Justice DY Chandrachud 296 318\n",
      "Central government 332 350\n"
     ]
    }
   ],
   "source": [
    "l=['Supreme Court','Justice DY Chandrachud','Central government']\n",
    "for i in l:\n",
    "    st=news.index(i)\n",
    "    en=st+len(i)\n",
    "    print(i,st,en)"
   ]
  },
  {
   "cell_type": "code",
   "execution_count": null,
   "metadata": {},
   "outputs": [],
   "source": [
    "NER ===> classification"
   ]
  },
  {
   "cell_type": "code",
   "execution_count": null,
   "metadata": {},
   "outputs": [],
   "source": [
    "X1, X2           y\n",
    "[start, end,] entity_type\n",
    "\n",
    "21, 26 source\n",
    "21, 24 destination\n",
    "...."
   ]
  },
  {
   "cell_type": "markdown",
   "metadata": {},
   "source": [
    "## Custom NER model 2"
   ]
  },
  {
   "cell_type": "code",
   "execution_count": 1,
   "metadata": {
    "ExecuteTime": {
     "end_time": "2021-05-25T04:06:09.105647Z",
     "start_time": "2021-05-25T04:05:58.138009Z"
    }
   },
   "outputs": [],
   "source": [
    "import spacy\n",
    "import random\n",
    "\n",
    "\n",
    "#SPECIFY THE NER TRAINING DATA\n",
    "TRAIN_DATA = [\n",
    "        (\"I have deposited an amount of $500 using my debit card.\",{\"entities\":[(7,16,\"action\"),(30,34,\"amount\")]}),\n",
    "        (\"Send $500 to the merchant with account number 1234567890. \",{\"entities\":[(0,4,\"action\"),(5,9,\"amount\")]}),\n",
    "        (\"Transfer $20000 to my new bank account ending with the number 4567. \",{\"entities\":[(0,8,\"action\"),(9,15,\"amount\")]}),\n",
    "        (\"Please deposit $2000 in my account. \",{\"entities\":[(7,14,\"action\"),(15,20,\"amount\")]}),\n",
    "        (\"I would like to withdraw $10000 from my bank account. \",{\"entities\":[(16,24,\"action\"),(25,31,\"amount\")]})]"
   ]
  },
  {
   "cell_type": "code",
   "execution_count": 2,
   "metadata": {
    "ExecuteTime": {
     "end_time": "2021-05-25T04:06:09.879078Z",
     "start_time": "2021-05-25T04:06:09.117642Z"
    }
   },
   "outputs": [],
   "source": [
    "# Create balnk NLP model\n",
    "nlp = spacy.blank('en') \n",
    "\n",
    "# Create pipe\n",
    "ner_pipe = nlp.create_pipe('ner')\n",
    "nlp.add_pipe(ner_pipe, last=True)"
   ]
  },
  {
   "cell_type": "code",
   "execution_count": 4,
   "metadata": {
    "ExecuteTime": {
     "end_time": "2021-05-25T04:07:47.968797Z",
     "start_time": "2021-05-25T04:07:47.937226Z"
    }
   },
   "outputs": [],
   "source": [
    "# Add entities labels to the ner pipeline\n",
    "for text, annotations in TRAIN_DATA:\n",
    "    for entity in annotations.get('entities'):\n",
    "        ner_pipe.add_label(entity[2])"
   ]
  },
  {
   "cell_type": "code",
   "execution_count": 10,
   "metadata": {
    "ExecuteTime": {
     "end_time": "2021-05-25T04:11:38.395462Z",
     "start_time": "2021-05-25T04:11:37.353218Z"
    }
   },
   "outputs": [
    {
     "name": "stdout",
     "output_type": "stream",
     "text": [
      "Loss: 5.482499836982065e-10\n",
      "Loss: 7.939340426233123e-12\n",
      "Loss: 6.369188466744763e-11\n",
      "Loss: 1.2949502417286581e-08\n",
      "Loss: 1.0019092441946074e-12\n",
      "Loss: 3.52677573151287e-11\n",
      "Loss: 2.4727345753723725e-10\n",
      "Loss: 5.077524760659583e-13\n",
      "Loss: 3.206875643222707e-07\n",
      "Loss: 1.1300151441587066e-13\n"
     ]
    }
   ],
   "source": [
    "optimizer = nlp.begin_training()\n",
    "\n",
    "for itn in range(10):\n",
    "    #print(\"Iteration Number:\" + str(itn))\n",
    "    random.shuffle(TRAIN_DATA)\n",
    "    losses = {}\n",
    "    for text, annotations in TRAIN_DATA:\n",
    "        nlp.update(\n",
    "            [text],  # batch of texts\n",
    "            [annotations],  # batch of annotations\n",
    "            drop=0.2,# dropout - make it harder to memorise data\n",
    "            sgd=optimizer,  # callable to update weights\n",
    "            losses=losses)\n",
    "    print(\"Loss:\",losses['ner'])"
   ]
  },
  {
   "cell_type": "code",
   "execution_count": 11,
   "metadata": {
    "ExecuteTime": {
     "end_time": "2021-05-25T04:22:31.453268Z",
     "start_time": "2021-05-25T04:22:31.241013Z"
    }
   },
   "outputs": [
    {
     "name": "stdout",
     "output_type": "stream",
     "text": [
      "Model saved\n"
     ]
    }
   ],
   "source": [
    "#SAVE THE CUSTOM NER MODEL TO\n",
    "nlp.to_disk(\"custom_ner_model\")\n",
    "print(\"Model saved\")"
   ]
  },
  {
   "cell_type": "code",
   "execution_count": 12,
   "metadata": {
    "ExecuteTime": {
     "end_time": "2021-05-25T04:22:46.104332Z",
     "start_time": "2021-05-25T04:22:45.769028Z"
    }
   },
   "outputs": [
    {
     "name": "stdout",
     "output_type": "stream",
     "text": [
      "action withdrawn\n",
      "amount $300\n"
     ]
    }
   ],
   "source": [
    "nlp2 = spacy.load(\"custom_ner_model\")\n",
    "doc2 = nlp2(\"I have withdrawn an amount of $300 with my credit card.\")\n",
    "for ent in doc2.ents:\n",
    "    print(ent.label_, ent.text)"
   ]
  },
  {
   "cell_type": "code",
   "execution_count": null,
   "metadata": {},
   "outputs": [],
   "source": []
  }
 ],
 "metadata": {
  "kernelspec": {
   "display_name": "Python 3",
   "language": "python",
   "name": "python3"
  },
  "language_info": {
   "codemirror_mode": {
    "name": "ipython",
    "version": 3
   },
   "file_extension": ".py",
   "mimetype": "text/x-python",
   "name": "python",
   "nbconvert_exporter": "python",
   "pygments_lexer": "ipython3",
   "version": "3.8.3"
  },
  "toc": {
   "base_numbering": 1,
   "nav_menu": {},
   "number_sections": true,
   "sideBar": true,
   "skip_h1_title": false,
   "title_cell": "Table of Contents",
   "title_sidebar": "Contents",
   "toc_cell": false,
   "toc_position": {},
   "toc_section_display": true,
   "toc_window_display": true
  },
  "varInspector": {
   "cols": {
    "lenName": 16,
    "lenType": 16,
    "lenVar": 40
   },
   "kernels_config": {
    "python": {
     "delete_cmd_postfix": "",
     "delete_cmd_prefix": "del ",
     "library": "var_list.py",
     "varRefreshCmd": "print(var_dic_list())"
    },
    "r": {
     "delete_cmd_postfix": ") ",
     "delete_cmd_prefix": "rm(",
     "library": "var_list.r",
     "varRefreshCmd": "cat(var_dic_list()) "
    }
   },
   "types_to_exclude": [
    "module",
    "function",
    "builtin_function_or_method",
    "instance",
    "_Feature"
   ],
   "window_display": false
  }
 },
 "nbformat": 4,
 "nbformat_minor": 4
}
