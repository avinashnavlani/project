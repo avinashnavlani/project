{
 "cells": [
  {
   "cell_type": "markdown",
   "metadata": {},
   "source": [
    "### Loading Required Library"
   ]
  },
  {
   "cell_type": "code",
   "execution_count": 2,
   "metadata": {
    "collapsed": true
   },
   "outputs": [],
   "source": [
    "import os.path\n",
    "from gensim import corpora\n",
    "from gensim.models.ldamodel import LdaModel\n",
    "from gensim.models import LsiModel\n",
    "from nltk.tokenize import RegexpTokenizer\n",
    "from nltk.corpus import stopwords\n",
    "from nltk.stem.porter import PorterStemmer\n",
    "from gensim.models.coherencemodel import CoherenceModel\n",
    "import matplotlib.pyplot as plt"
   ]
  },
  {
   "cell_type": "code",
   "execution_count": 3,
   "metadata": {
    "collapsed": true
   },
   "outputs": [],
   "source": [
    "# Visualization settings\n",
    "%matplotlib inline\n",
    "plt.style.use(\"ggplot\")\n",
    "plt.rcParams.update({\"font.size\": 14})"
   ]
  },
  {
   "cell_type": "code",
   "execution_count": 6,
   "metadata": {
    "collapsed": true
   },
   "outputs": [],
   "source": [
    "def load_data(path,file_name):\n",
    "    \"\"\"\n",
    "    Input  : path and file_name\n",
    "    Purpose: loading text file\n",
    "    Output : list of paragraphs/documents and \n",
    "             title(initial 100 words considred as title of document)\n",
    "    \"\"\"\n",
    "    documents_list = []\n",
    "    titles=[]\n",
    "    with open( os.path.join(path, file_name) ,\"r\") as fin:\n",
    "        for line in fin.readlines():\n",
    "            text = line.strip()\n",
    "            documents_list.append(text)\n",
    "    print(\"Total Number of Documents:\",len(documents_list))\n",
    "    titles.append( text[0:min(len(text),100)] )\n",
    "    return documents_list,titles\n",
    "\n",
    "def preprocess_data(doc_set):\n",
    "    \"\"\"\n",
    "    Input  : docuemnt list\n",
    "    Purpose: preprocess text (tokenize, removing stopwords, and stemming)\n",
    "    Output : preprocessed text\n",
    "    \"\"\"\n",
    "    # initialize regex tokenizer\n",
    "    tokenizer = RegexpTokenizer(r'\\w+')\n",
    "    # create English stop words list\n",
    "    en_stop = set(stopwords.words('english'))\n",
    "    # Create p_stemmer of class PorterStemmer\n",
    "    p_stemmer = PorterStemmer()\n",
    "    # list for tokenized documents in loop\n",
    "    texts = []\n",
    "    # loop through document list\n",
    "    for i in doc_set:\n",
    "        # clean and tokenize document string\n",
    "        raw = i.lower()\n",
    "        tokens = tokenizer.tokenize(raw)\n",
    "        # remove stop words from tokens\n",
    "        stopped_tokens = [i for i in tokens if not i in en_stop]\n",
    "        # stem tokens\n",
    "        stemmed_tokens = [p_stemmer.stem(i) for i in stopped_tokens]\n",
    "        # add tokens to list\n",
    "        texts.append(stemmed_tokens)\n",
    "    return texts\n",
    "\n",
    "def prepare_corpus(doc_clean):\n",
    "    \"\"\"\n",
    "    Input  : clean document\n",
    "    Purpose: create term dictionary of our courpus and Converting list of documents (corpus) into Document Term Matrix\n",
    "    Output : term dictionary and Document Term Matrix\n",
    "    \"\"\"\n",
    "    # Creating the term dictionary of our courpus, where every unique term is assigned an index. dictionary = corpora.Dictionary(doc_clean)\n",
    "    dictionary = corpora.Dictionary(doc_clean)\n",
    "    # Converting list of documents (corpus) into Document Term Matrix using dictionary prepared above.\n",
    "    doc_term_matrix = [dictionary.doc2bow(doc) for doc in doc_clean]\n",
    "    # generate LDA model\n",
    "    return dictionary,doc_term_matrix\n",
    "    \n",
    "def create_gensim_lda_model(doc_clean,number_of_topics,words): \n",
    "    \"\"\"\n",
    "    Input  : clean document, number of topics and number of words associated with each topic\n",
    "    Purpose: create LDA model using gensim\n",
    "    Output : return LDA model\n",
    "    \"\"\"\n",
    "    dictionary,doc_term_matrix=prepare_corpus(doc_clean)\n",
    "    ldamodel = LdaModel(doc_term_matrix, num_topics=number_of_topics, id2word = dictionary, passes=20)\n",
    "    print(ldamodel.print_topics(num_topics=number_of_topics, num_words=words))\n",
    "    return ldamodel\n",
    "\n",
    "def create_gensim_lsa_model(doc_clean,number_of_topics,words): \n",
    "    \"\"\"\n",
    "    Input  : clean document, number of topics and number of words associated with each topic\n",
    "    Purpose: create LSA model using gensim\n",
    "    Output : return LSA model\n",
    "    \"\"\"\n",
    "    dictionary,doc_term_matrix=prepare_corpus(doc_clean)\n",
    "    # generate LSA model\n",
    "    lsamodel = LsiModel(doc_term_matrix, num_topics=number_of_topics, id2word = dictionary)  # train model\n",
    "    print(lsamodel.print_topics(num_topics=number_of_topics, num_words=words))\n",
    "    return lsamodel"
   ]
  },
  {
   "cell_type": "code",
   "execution_count": 18,
   "metadata": {},
   "outputs": [
    {
     "name": "stdout",
     "output_type": "stream",
     "text": [
      "Total Number of Documents: 4551\n",
      "[(0, '0.031*\"trump\" + 0.011*\"said\" + 0.011*\"clinton\" + 0.007*\"say\" + 0.007*\"campaign\" + 0.006*\"donald\" + 0.006*\"republican\" + 0.006*\"state\" + 0.006*\"presid\" + 0.005*\"elect\"'), (1, '0.019*\"women\" + 0.012*\"abort\" + 0.008*\"right\" + 0.007*\"said\" + 0.006*\"law\" + 0.005*\"woman\" + 0.005*\"babi\" + 0.005*\"court\" + 0.005*\"russia\" + 0.005*\"pill\"'), (2, '0.011*\"peopl\" + 0.009*\"health\" + 0.008*\"said\" + 0.005*\"us\" + 0.005*\"work\" + 0.005*\"mental\" + 0.004*\"need\" + 0.004*\"one\" + 0.004*\"commun\" + 0.004*\"year\"'), (3, '0.017*\"leagu\" + 0.014*\"citi\" + 0.011*\"club\" + 0.010*\"premier\" + 0.009*\"1\" + 0.009*\"season\" + 0.009*\"unit\" + 0.008*\"v\" + 0.008*\"0\" + 0.008*\"footbal\"'), (4, '0.008*\"use\" + 0.008*\"compani\" + 0.008*\"onlin\" + 0.007*\"facebook\" + 0.007*\"internet\" + 0.006*\"user\" + 0.005*\"said\" + 0.005*\"googl\" + 0.005*\"peopl\" + 0.005*\"say\"'), (5, '0.010*\"music\" + 0.007*\"song\" + 0.007*\"like\" + 0.007*\"album\" + 0.005*\"one\" + 0.005*\"year\" + 0.004*\"new\" + 0.004*\"band\" + 0.004*\"film\" + 0.004*\"record\"'), (6, '0.009*\"film\" + 0.007*\"one\" + 0.006*\"like\" + 0.006*\"say\" + 0.006*\"time\" + 0.005*\"peopl\" + 0.005*\"year\" + 0.005*\"get\" + 0.004*\"go\" + 0.004*\"work\"'), (7, '0.016*\"bank\" + 0.010*\"said\" + 0.010*\"year\" + 0.005*\"financi\" + 0.005*\"would\" + 0.005*\"market\" + 0.004*\"rate\" + 0.004*\"uk\" + 0.004*\"nh\" + 0.004*\"pay\"'), (8, '0.011*\"min\" + 0.008*\"goal\" + 0.008*\"game\" + 0.007*\"ball\" + 0.006*\"team\" + 0.006*\"play\" + 0.006*\"time\" + 0.006*\"back\" + 0.005*\"half\" + 0.005*\"first\"'), (9, '0.017*\"eu\" + 0.011*\"would\" + 0.011*\"said\" + 0.009*\"brexit\" + 0.009*\"uk\" + 0.009*\"vote\" + 0.009*\"leav\" + 0.008*\"say\" + 0.007*\"britain\" + 0.006*\"govern\"')]\n"
     ]
    }
   ],
   "source": [
    "# LDA Model\n",
    "number_of_topics=10\n",
    "words=10\n",
    "document_list,titles=load_data(\"\",\"articles.txt\")\n",
    "clean_text=preprocess_data(document_list)\n",
    "model=create_gensim_lda_model(clean_text,number_of_topics,words)"
   ]
  },
  {
   "cell_type": "code",
   "execution_count": 19,
   "metadata": {},
   "outputs": [
    {
     "data": {
      "text/plain": [
       "[(0, '0.031*\"trump\" + 0.011*\"said\" + 0.011*\"clinton\" + 0.007*\"say\"'),\n",
       " (1, '0.019*\"women\" + 0.012*\"abort\" + 0.008*\"right\" + 0.007*\"said\"'),\n",
       " (2, '0.011*\"peopl\" + 0.009*\"health\" + 0.008*\"said\" + 0.005*\"us\"'),\n",
       " (3, '0.017*\"leagu\" + 0.014*\"citi\" + 0.011*\"club\" + 0.010*\"premier\"'),\n",
       " (4, '0.008*\"use\" + 0.008*\"compani\" + 0.008*\"onlin\" + 0.007*\"facebook\"'),\n",
       " (5, '0.010*\"music\" + 0.007*\"song\" + 0.007*\"like\" + 0.007*\"album\"'),\n",
       " (6, '0.009*\"film\" + 0.007*\"one\" + 0.006*\"like\" + 0.006*\"say\"'),\n",
       " (7, '0.016*\"bank\" + 0.010*\"said\" + 0.010*\"year\" + 0.005*\"financi\"'),\n",
       " (8, '0.011*\"min\" + 0.008*\"goal\" + 0.008*\"game\" + 0.007*\"ball\"'),\n",
       " (9, '0.017*\"eu\" + 0.011*\"would\" + 0.011*\"said\" + 0.009*\"brexit\"')]"
      ]
     },
     "execution_count": 19,
     "metadata": {},
     "output_type": "execute_result"
    }
   ],
   "source": [
    "model.show_topics(num_words=4)"
   ]
  },
  {
   "cell_type": "code",
   "execution_count": 21,
   "metadata": {},
   "outputs": [
    {
     "name": "stdout",
     "output_type": "stream",
     "text": [
      "Total Number of Documents: 4551\n",
      "[(0, '0.361*\"trump\" + 0.272*\"say\" + 0.233*\"said\" + 0.166*\"would\" + 0.160*\"clinton\"'), (1, '-0.389*\"citi\" + -0.370*\"v\" + -0.356*\"h\" + -0.355*\"2016\" + -0.354*\"2017\"'), (2, '-0.612*\"trump\" + -0.264*\"clinton\" + 0.261*\"eu\" + 0.148*\"say\" + 0.137*\"would\"'), (3, '-0.400*\"min\" + 0.261*\"eu\" + -0.183*\"goal\" + -0.152*\"ball\" + -0.132*\"play\"'), (4, '-0.404*\"bank\" + 0.305*\"eu\" + 0.290*\"min\" + -0.189*\"year\" + 0.164*\"leav\"'), (5, '0.310*\"bank\" + -0.307*\"say\" + -0.221*\"peopl\" + 0.203*\"trump\" + 0.166*\"1\"'), (6, '-0.570*\"say\" + -0.237*\"min\" + 0.170*\"vote\" + -0.158*\"govern\" + 0.154*\"poll\"'), (7, '-0.260*\"sander\" + 0.258*\"trump\" + -0.223*\"cruz\" + -0.221*\"say\" + -0.221*\"iowa\"'), (8, '-0.369*\"min\" + 0.346*\"0\" + -0.301*\"bank\" + 0.296*\"1\" + 0.234*\"goal\"'), (9, '-0.280*\"bank\" + 0.279*\"govern\" + -0.262*\"say\" + 0.187*\"said\" + 0.160*\"hammond\"')]\n"
     ]
    }
   ],
   "source": [
    "# LSA Model\n",
    "number_of_topics=10\n",
    "words=5\n",
    "document_list,titles=load_data(\"\",\"articles.txt\")\n",
    "clean_text=preprocess_data(document_list)\n",
    "model=create_gensim_lsa_model(clean_text,number_of_topics,words)"
   ]
  },
  {
   "cell_type": "code",
   "execution_count": 22,
   "metadata": {},
   "outputs": [
    {
     "data": {
      "text/plain": [
       "[(0,\n",
       "  '0.361*\"trump\" + 0.272*\"say\" + 0.233*\"said\" + 0.166*\"would\" + 0.160*\"clinton\"'),\n",
       " (1,\n",
       "  '-0.389*\"citi\" + -0.370*\"v\" + -0.356*\"h\" + -0.355*\"2016\" + -0.354*\"2017\"'),\n",
       " (2,\n",
       "  '-0.612*\"trump\" + -0.264*\"clinton\" + 0.261*\"eu\" + 0.148*\"say\" + 0.137*\"would\"'),\n",
       " (3,\n",
       "  '-0.400*\"min\" + 0.261*\"eu\" + -0.183*\"goal\" + -0.152*\"ball\" + -0.132*\"play\"'),\n",
       " (4,\n",
       "  '-0.404*\"bank\" + 0.305*\"eu\" + 0.290*\"min\" + -0.189*\"year\" + 0.164*\"leav\"'),\n",
       " (5,\n",
       "  '0.310*\"bank\" + -0.307*\"say\" + -0.221*\"peopl\" + 0.203*\"trump\" + 0.166*\"1\"'),\n",
       " (6,\n",
       "  '-0.570*\"say\" + -0.237*\"min\" + 0.170*\"vote\" + -0.158*\"govern\" + 0.154*\"poll\"'),\n",
       " (7,\n",
       "  '-0.260*\"sander\" + 0.258*\"trump\" + -0.223*\"cruz\" + -0.221*\"say\" + -0.221*\"iowa\"'),\n",
       " (8, '-0.369*\"min\" + 0.346*\"0\" + -0.301*\"bank\" + 0.296*\"1\" + 0.234*\"goal\"'),\n",
       " (9,\n",
       "  '-0.280*\"bank\" + 0.279*\"govern\" + -0.262*\"say\" + 0.187*\"said\" + 0.160*\"hammond\"')]"
      ]
     },
     "execution_count": 22,
     "metadata": {},
     "output_type": "execute_result"
    }
   ],
   "source": [
    "model.show_topics(num_words=5)"
   ]
  },
  {
   "cell_type": "code",
   "execution_count": 40,
   "metadata": {
    "collapsed": true
   },
   "outputs": [],
   "source": [
    "def compute_coherence_values(dictionary, corpus, texts, limit, start=2, step=3):\n",
    "    \"\"\"\n",
    "    Input   : dictionary : Gensim dictionary\n",
    "              corpus : Gensim corpus\n",
    "              texts : List of input texts\n",
    "              limit : Max num of topics\n",
    "    purpose : Compute c_v coherence for various number of topics\n",
    "    Output  : model_list : List of LDA topic models\n",
    "              coherence_values : Coherence values corresponding to the LDA model with respective number of topics\n",
    "    \"\"\"\n",
    "    coherence_values = []\n",
    "    model_list = []\n",
    "    for num_topics in range(start, limit, step):\n",
    "        model=LdaModel(corpus=corpus, id2word=dictionary, num_topics=num_topics)\n",
    "        model_list.append(model)\n",
    "        coherencemodel = CoherenceModel(model=model, texts=texts, dictionary=dictionary, coherence='c_v')\n",
    "        coherence_values.append(coherencemodel.get_coherence())\n",
    "\n",
    "    return model_list, coherence_values"
   ]
  },
  {
   "cell_type": "code",
   "execution_count": 41,
   "metadata": {
    "collapsed": true
   },
   "outputs": [],
   "source": [
    "def plot_graph(doc_clean,start, limit, step):\n",
    "    dictionary,doc_term_matrix=prepare_corpus(doc_clean)\n",
    "    model_list, coherence_values = compute_coherence_values(dictionary, \n",
    "                                                            doc_term_matrix, \n",
    "                                                            doc_clean, \n",
    "                                                            limit, start, step)\n",
    "    # Show graph\n",
    "    x = range(start, limit, step)\n",
    "    plt.plot(x, coherence_values)\n",
    "    plt.xlabel(\"Num Topics\")\n",
    "    plt.ylabel(\"Coherence score\")\n",
    "    plt.legend((\"coherence_values\"), loc='best')\n",
    "    plt.show()"
   ]
  },
  {
   "cell_type": "code",
   "execution_count": 42,
   "metadata": {},
   "outputs": [
    {
     "data": {
      "image/png": "[encoded data removed]",
      "text/plain": [
       "<matplotlib.figure.Figure at 0x7f0c60c60128>"
      ]
     },
     "metadata": {},
     "output_type": "display_data"
    }
   ],
   "source": [
    "start,limit,step=2,15,1\n",
    "plot_graph(clean_text,start,limit,step)"
   ]
  },
  {
   "cell_type": "markdown",
   "metadata": {},
   "source": [
    "### Generating Model for Opitmal Number of Topics"
   ]
  },
  {
   "cell_type": "code",
   "execution_count": 43,
   "metadata": {},
   "outputs": [
    {
     "name": "stdout",
     "output_type": "stream",
     "text": [
      "Total Number of Documents: 4551\n",
      "[(0, '0.014*\"bank\" + 0.010*\"said\" + 0.008*\"year\" + 0.005*\"would\" + 0.005*\"compani\" + 0.005*\"market\" + 0.005*\"financi\" + 0.005*\"uk\" + 0.004*\"busi\" + 0.004*\"also\"'), (1, '0.009*\"peopl\" + 0.007*\"health\" + 0.006*\"said\" + 0.006*\"year\" + 0.005*\"work\" + 0.005*\"one\" + 0.005*\"say\" + 0.004*\"use\" + 0.004*\"care\" + 0.004*\"need\"'), (2, '0.023*\"music\" + 0.019*\"album\" + 0.018*\"song\" + 0.010*\"band\" + 0.010*\"record\" + 0.008*\"pop\" + 0.006*\"sound\" + 0.006*\"rock\" + 0.006*\"track\" + 0.005*\"singl\"'), (3, '0.009*\"leagu\" + 0.007*\"min\" + 0.007*\"goal\" + 0.007*\"game\" + 0.006*\"season\" + 0.006*\"citi\" + 0.006*\"team\" + 0.006*\"player\" + 0.005*\"time\" + 0.005*\"unit\"'), (4, '0.009*\"film\" + 0.007*\"like\" + 0.007*\"one\" + 0.005*\"year\" + 0.004*\"time\" + 0.004*\"say\" + 0.004*\"get\" + 0.004*\"make\" + 0.004*\"play\" + 0.003*\"new\"'), (5, '0.031*\"trump\" + 0.011*\"said\" + 0.011*\"clinton\" + 0.007*\"say\" + 0.006*\"donald\" + 0.006*\"campaign\" + 0.006*\"republican\" + 0.006*\"state\" + 0.005*\"presid\" + 0.005*\"elect\"'), (6, '0.014*\"eu\" + 0.010*\"would\" + 0.010*\"said\" + 0.008*\"leav\" + 0.007*\"vote\" + 0.007*\"say\" + 0.007*\"brexit\" + 0.007*\"uk\" + 0.006*\"peopl\" + 0.006*\"govern\"')]\n"
     ]
    }
   ],
   "source": [
    "# LDA Model\n",
    "number_of_topics=7\n",
    "words=10\n",
    "document_list,titles=load_data(\"\",\"articles.txt\")\n",
    "clean_text=preprocess_data(document_list)\n",
    "model=create_gensim_lda_model(clean_text,number_of_topics,words)\n"
   ]
  },
  {
   "cell_type": "code",
   "execution_count": 44,
   "metadata": {},
   "outputs": [
    {
     "name": "stdout",
     "output_type": "stream",
     "text": [
      "(0, '0.014*\"bank\" + 0.010*\"said\" + 0.008*\"year\" + 0.005*\"would\" + 0.005*\"compani\" + 0.005*\"market\" + 0.005*\"financi\" + 0.005*\"uk\" + 0.004*\"busi\" + 0.004*\"also\"')\n",
      "(1, '0.009*\"peopl\" + 0.007*\"health\" + 0.006*\"said\" + 0.006*\"year\" + 0.005*\"work\" + 0.005*\"one\" + 0.005*\"say\" + 0.004*\"use\" + 0.004*\"care\" + 0.004*\"need\"')\n",
      "(2, '0.023*\"music\" + 0.019*\"album\" + 0.018*\"song\" + 0.010*\"band\" + 0.010*\"record\" + 0.008*\"pop\" + 0.006*\"sound\" + 0.006*\"rock\" + 0.006*\"track\" + 0.005*\"singl\"')\n",
      "(3, '0.009*\"leagu\" + 0.007*\"min\" + 0.007*\"goal\" + 0.007*\"game\" + 0.006*\"season\" + 0.006*\"citi\" + 0.006*\"team\" + 0.006*\"player\" + 0.005*\"time\" + 0.005*\"unit\"')\n",
      "(4, '0.009*\"film\" + 0.007*\"like\" + 0.007*\"one\" + 0.005*\"year\" + 0.004*\"time\" + 0.004*\"say\" + 0.004*\"get\" + 0.004*\"make\" + 0.004*\"play\" + 0.003*\"new\"')\n",
      "(5, '0.031*\"trump\" + 0.011*\"said\" + 0.011*\"clinton\" + 0.007*\"say\" + 0.006*\"donald\" + 0.006*\"campaign\" + 0.006*\"republican\" + 0.006*\"state\" + 0.005*\"presid\" + 0.005*\"elect\"')\n",
      "(6, '0.014*\"eu\" + 0.010*\"would\" + 0.010*\"said\" + 0.008*\"leav\" + 0.007*\"vote\" + 0.007*\"say\" + 0.007*\"brexit\" + 0.007*\"uk\" + 0.006*\"peopl\" + 0.006*\"govern\"')\n"
     ]
    }
   ],
   "source": [
    "for i in model.show_topics(num_words=10):\n",
    "    print(i)"
   ]
  },
  {
   "cell_type": "code",
   "execution_count": null,
   "metadata": {
    "collapsed": true
   },
   "outputs": [],
   "source": []
  }
 ],
 "metadata": {
  "kernelspec": {
   "display_name": "Python 3",
   "language": "python",
   "name": "python3"
  },
  "language_info": {
   "codemirror_mode": {
    "name": "ipython",
    "version": 3
   },
   "file_extension": ".py",
   "mimetype": "text/x-python",
   "name": "python",
   "nbconvert_exporter": "python",
   "pygments_lexer": "ipython3",
   "version": "3.8.3"
  },
  "toc": {
   "base_numbering": 1,
   "nav_menu": {},
   "number_sections": true,
   "sideBar": true,
   "skip_h1_title": false,
   "title_cell": "Table of Contents",
   "title_sidebar": "Contents",
   "toc_cell": false,
   "toc_position": {},
   "toc_section_display": true,
   "toc_window_display": false
  },
  "varInspector": {
   "cols": {
    "lenName": 16,
    "lenType": 16,
    "lenVar": 40
   },
   "kernels_config": {
    "python": {
     "delete_cmd_postfix": "",
     "delete_cmd_prefix": "del ",
     "library": "var_list.py",
     "varRefreshCmd": "print(var_dic_list())"
    },
    "r": {
     "delete_cmd_postfix": ") ",
     "delete_cmd_prefix": "rm(",
     "library": "var_list.r",
     "varRefreshCmd": "cat(var_dic_list()) "
    }
   },
   "types_to_exclude": [
    "module",
    "function",
    "builtin_function_or_method",
    "instance",
    "_Feature"
   ],
   "window_display": false
  }
 },
 "nbformat": 4,
 "nbformat_minor": 2
}
